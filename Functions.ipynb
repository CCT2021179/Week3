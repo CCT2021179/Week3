{
 "cells": [
  {
   "cell_type": "markdown",
   "id": "5730a10a",
   "metadata": {},
   "source": [
    "## Functions\n",
    "This is a block of code that we can save with a name and reuse whenever we want\n",
    "- Code does not execute when the function is defined\n",
    "- Any inputs are put in the brackets ()\n",
    "- The parameters are the input variables that the function uses\n",
    "- The arguments are what get put into the function\n",
    "- Can output data using the `return` keyword\n",
    "\n",
    "Uses\n",
    "- Reduce code repetition\n",
    "    - Code is more readable\n",
    "    - Makes it easier to debug\n",
    "    - Easier to maintain/update"
   ]
  },
  {
   "cell_type": "code",
   "execution_count": 4,
   "id": "e151bde8",
   "metadata": {},
   "outputs": [],
   "source": [
    "def printFiveGreetings():\n",
    "    print(\"Hello\")\n",
    "    print(\"Hi\")\n",
    "    print(\"Greetings\")\n",
    "    print(\"Good afternoon\")\n",
    "    print(\"Dia dhaiobh\")"
   ]
  },
  {
   "cell_type": "code",
   "execution_count": 5,
   "id": "cd768600",
   "metadata": {},
   "outputs": [
    {
     "name": "stdout",
     "output_type": "stream",
     "text": [
      "Hello\n",
      "Hi\n",
      "Greetings\n",
      "Good afternoon\n",
      "Dia dhaiobh\n"
     ]
    }
   ],
   "source": [
    "printFiveGreetings()"
   ]
  },
  {
   "cell_type": "code",
   "execution_count": 6,
   "id": "406860a2",
   "metadata": {
    "collapsed": true
   },
   "outputs": [
    {
     "name": "stdout",
     "output_type": "stream",
     "text": [
      "Hello\n",
      "Hi\n",
      "Greetings\n",
      "Good afternoon\n",
      "Dia dhaiobh\n",
      "Hello\n",
      "Hi\n",
      "Greetings\n",
      "Good afternoon\n",
      "Dia dhaiobh\n",
      "Hello\n",
      "Hi\n",
      "Greetings\n",
      "Good afternoon\n",
      "Dia dhaiobh\n"
     ]
    }
   ],
   "source": [
    "printFiveGreetings()\n",
    "printFiveGreetings()\n",
    "printFiveGreetings()"
   ]
  },
  {
   "cell_type": "code",
   "execution_count": 7,
   "id": "461c93c6",
   "metadata": {},
   "outputs": [
    {
     "data": {
      "text/plain": [
       "<function __main__.printFiveGreetings()>"
      ]
     },
     "execution_count": 7,
     "metadata": {},
     "output_type": "execute_result"
    }
   ],
   "source": [
    "printFiveGreetings"
   ]
  },
  {
   "cell_type": "code",
   "execution_count": 8,
   "id": "dfec277c",
   "metadata": {},
   "outputs": [
    {
     "data": {
      "text/plain": [
       "<function print(*args, sep=' ', end='\\n', file=None, flush=False)>"
      ]
     },
     "execution_count": 8,
     "metadata": {},
     "output_type": "execute_result"
    }
   ],
   "source": [
    "print"
   ]
  },
  {
   "cell_type": "code",
   "execution_count": 9,
   "id": "083636fa",
   "metadata": {},
   "outputs": [],
   "source": [
    "import pandas as pd"
   ]
  },
  {
   "cell_type": "code",
   "execution_count": 10,
   "id": "d85ceb7b",
   "metadata": {
    "collapsed": true
   },
   "outputs": [
    {
     "data": {
      "text/plain": [
       "<function pandas.io.parsers.readers.read_csv(filepath_or_buffer: 'FilePath | ReadCsvBuffer[bytes] | ReadCsvBuffer[str]', *, sep: 'str | None | lib.NoDefault' = <no_default>, delimiter: 'str | None | lib.NoDefault' = None, header: \"int | Sequence[int] | None | Literal['infer']\" = 'infer', names: 'Sequence[Hashable] | None | lib.NoDefault' = <no_default>, index_col: 'IndexLabel | Literal[False] | None' = None, usecols=None, dtype: 'DtypeArg | None' = None, engine: 'CSVEngine | None' = None, converters=None, true_values=None, false_values=None, skipinitialspace: 'bool' = False, skiprows=None, skipfooter: 'int' = 0, nrows: 'int | None' = None, na_values=None, keep_default_na: 'bool' = True, na_filter: 'bool' = True, verbose: 'bool' = False, skip_blank_lines: 'bool' = True, parse_dates: 'bool | Sequence[Hashable] | None' = None, infer_datetime_format: 'bool | lib.NoDefault' = <no_default>, keep_date_col: 'bool' = False, date_parser=<no_default>, date_format: 'str | None' = None, dayfirst: 'bool' = False, cache_dates: 'bool' = True, iterator: 'bool' = False, chunksize: 'int | None' = None, compression: 'CompressionOptions' = 'infer', thousands: 'str | None' = None, decimal: 'str' = '.', lineterminator: 'str | None' = None, quotechar: 'str' = '\"', quoting: 'int' = 0, doublequote: 'bool' = True, escapechar: 'str | None' = None, comment: 'str | None' = None, encoding: 'str | None' = None, encoding_errors: 'str | None' = 'strict', dialect: 'str | csv.Dialect | None' = None, on_bad_lines: 'str' = 'error', delim_whitespace: 'bool' = False, low_memory=True, memory_map: 'bool' = False, float_precision: \"Literal['high', 'legacy'] | None\" = None, storage_options: 'StorageOptions' = None, dtype_backend: 'DtypeBackend | lib.NoDefault' = <no_default>) -> 'DataFrame | TextFileReader'>"
      ]
     },
     "execution_count": 10,
     "metadata": {},
     "output_type": "execute_result"
    }
   ],
   "source": [
    "pd.read_csv"
   ]
  },
  {
   "cell_type": "code",
   "execution_count": 11,
   "id": "896c9e30",
   "metadata": {},
   "outputs": [],
   "source": [
    "def weirdMaths(num1, num2):\n",
    "    print(num1*num2 + num1**num2)"
   ]
  },
  {
   "cell_type": "code",
   "execution_count": 12,
   "id": "e98accb5",
   "metadata": {},
   "outputs": [
    {
     "name": "stdout",
     "output_type": "stream",
     "text": [
      "14\n"
     ]
    }
   ],
   "source": [
    "weirdMaths(2, 3)"
   ]
  },
  {
   "cell_type": "code",
   "execution_count": 13,
   "id": "c9adf308",
   "metadata": {},
   "outputs": [
    {
     "name": "stdout",
     "output_type": "stream",
     "text": [
      "78160\n"
     ]
    }
   ],
   "source": [
    "weirdMaths(5,7)"
   ]
  },
  {
   "cell_type": "code",
   "execution_count": 14,
   "id": "4b53227e",
   "metadata": {},
   "outputs": [
    {
     "name": "stdout",
     "output_type": "stream",
     "text": [
      "16.44915530675933\n"
     ]
    }
   ],
   "source": [
    "weirdMaths(2, 3.3)"
   ]
  },
  {
   "cell_type": "code",
   "execution_count": 15,
   "id": "9619cda8",
   "metadata": {},
   "outputs": [
    {
     "ename": "TypeError",
     "evalue": "weirdMaths() missing 1 required positional argument: 'num2'",
     "output_type": "error",
     "traceback": [
      "\u001b[1;31m---------------------------------------------------------------------------\u001b[0m",
      "\u001b[1;31mTypeError\u001b[0m                                 Traceback (most recent call last)",
      "Cell \u001b[1;32mIn[15], line 1\u001b[0m\n\u001b[1;32m----> 1\u001b[0m weirdMaths(\u001b[38;5;241m2\u001b[39m)\n",
      "\u001b[1;31mTypeError\u001b[0m: weirdMaths() missing 1 required positional argument: 'num2'"
     ]
    }
   ],
   "source": [
    "#weirdMaths(2)"
   ]
  },
  {
   "cell_type": "code",
   "execution_count": 16,
   "id": "07381c2b",
   "metadata": {},
   "outputs": [
    {
     "ename": "TypeError",
     "evalue": "weirdMaths() takes 2 positional arguments but 3 were given",
     "output_type": "error",
     "traceback": [
      "\u001b[1;31m---------------------------------------------------------------------------\u001b[0m",
      "\u001b[1;31mTypeError\u001b[0m                                 Traceback (most recent call last)",
      "Cell \u001b[1;32mIn[16], line 1\u001b[0m\n\u001b[1;32m----> 1\u001b[0m weirdMaths(\u001b[38;5;241m2\u001b[39m, \u001b[38;5;241m3\u001b[39m, \u001b[38;5;241m5\u001b[39m)\n",
      "\u001b[1;31mTypeError\u001b[0m: weirdMaths() takes 2 positional arguments but 3 were given"
     ]
    }
   ],
   "source": [
    "#weirdMaths(2, 3, 5)"
   ]
  },
  {
   "cell_type": "code",
   "execution_count": 17,
   "id": "51a3e421",
   "metadata": {},
   "outputs": [
    {
     "name": "stdout",
     "output_type": "stream",
     "text": [
      "16.44915530675933\n"
     ]
    }
   ],
   "source": [
    "weirdMaths(2, 3.3)"
   ]
  },
  {
   "cell_type": "code",
   "execution_count": 18,
   "id": "f4389e68",
   "metadata": {},
   "outputs": [
    {
     "name": "stdout",
     "output_type": "stream",
     "text": [
      "16.44915530675933\n"
     ]
    },
    {
     "data": {
      "text/plain": [
       "NoneType"
      ]
     },
     "execution_count": 18,
     "metadata": {},
     "output_type": "execute_result"
    }
   ],
   "source": [
    "type(weirdMaths(2, 3.3))"
   ]
  },
  {
   "cell_type": "code",
   "execution_count": 19,
   "id": "4082ef6f",
   "metadata": {},
   "outputs": [],
   "source": [
    "def weirdMaths2(num1, num2):\n",
    "    return num1*num2 + num1**num2"
   ]
  },
  {
   "cell_type": "code",
   "execution_count": 20,
   "id": "2603494b",
   "metadata": {},
   "outputs": [
    {
     "data": {
      "text/plain": [
       "float"
      ]
     },
     "execution_count": 20,
     "metadata": {},
     "output_type": "execute_result"
    }
   ],
   "source": [
    "type(weirdMaths2(2, 3.3))"
   ]
  },
  {
   "cell_type": "code",
   "execution_count": 21,
   "id": "b72bf244",
   "metadata": {},
   "outputs": [],
   "source": [
    "output = weirdMaths2(2, 3.3)"
   ]
  },
  {
   "cell_type": "code",
   "execution_count": 22,
   "id": "526b14eb",
   "metadata": {},
   "outputs": [
    {
     "data": {
      "text/plain": [
       "16.44915530675933"
      ]
     },
     "execution_count": 22,
     "metadata": {},
     "output_type": "execute_result"
    }
   ],
   "source": [
    "output"
   ]
  },
  {
   "cell_type": "code",
   "execution_count": 23,
   "id": "2da17506",
   "metadata": {},
   "outputs": [],
   "source": [
    "def dualMaths(num1, num2):\n",
    "    return num1*num2, num1**num2"
   ]
  },
  {
   "cell_type": "code",
   "execution_count": 24,
   "id": "3337490a",
   "metadata": {},
   "outputs": [
    {
     "data": {
      "text/plain": [
       "(8, 16)"
      ]
     },
     "execution_count": 24,
     "metadata": {},
     "output_type": "execute_result"
    }
   ],
   "source": [
    "dualMaths(2, 4)"
   ]
  },
  {
   "cell_type": "code",
   "execution_count": 25,
   "id": "c16e2b62",
   "metadata": {},
   "outputs": [],
   "source": [
    "productAnswer, powerAnswer = dualMaths(2, 4)"
   ]
  },
  {
   "cell_type": "code",
   "execution_count": 26,
   "id": "2467f879",
   "metadata": {},
   "outputs": [
    {
     "data": {
      "text/plain": [
       "8"
      ]
     },
     "execution_count": 26,
     "metadata": {},
     "output_type": "execute_result"
    }
   ],
   "source": [
    "productAnswer"
   ]
  },
  {
   "cell_type": "code",
   "execution_count": 27,
   "id": "72019d33",
   "metadata": {},
   "outputs": [
    {
     "data": {
      "text/plain": [
       "16"
      ]
     },
     "execution_count": 27,
     "metadata": {},
     "output_type": "execute_result"
    }
   ],
   "source": [
    "powerAnswer"
   ]
  },
  {
   "cell_type": "code",
   "execution_count": 28,
   "id": "39812c77",
   "metadata": {},
   "outputs": [
    {
     "data": {
      "text/plain": [
       "function"
      ]
     },
     "execution_count": 28,
     "metadata": {},
     "output_type": "execute_result"
    }
   ],
   "source": [
    "type(dualMaths)"
   ]
  },
  {
   "cell_type": "code",
   "execution_count": 29,
   "id": "e5a744ff",
   "metadata": {},
   "outputs": [
    {
     "data": {
      "text/plain": [
       "tuple"
      ]
     },
     "execution_count": 29,
     "metadata": {},
     "output_type": "execute_result"
    }
   ],
   "source": [
    "type(dualMaths(2, 4))"
   ]
  },
  {
   "cell_type": "code",
   "execution_count": 30,
   "id": "8f8ad2e2",
   "metadata": {},
   "outputs": [],
   "source": [
    "# Default value\n",
    "def adder(num1, num2=5):\n",
    "    return num1 + num2"
   ]
  },
  {
   "cell_type": "code",
   "execution_count": 31,
   "id": "8c6e290b",
   "metadata": {},
   "outputs": [
    {
     "data": {
      "text/plain": [
       "12"
      ]
     },
     "execution_count": 31,
     "metadata": {},
     "output_type": "execute_result"
    }
   ],
   "source": [
    "adder(4, 8)"
   ]
  },
  {
   "cell_type": "code",
   "execution_count": 32,
   "id": "448d8d02",
   "metadata": {},
   "outputs": [
    {
     "data": {
      "text/plain": [
       "9"
      ]
     },
     "execution_count": 32,
     "metadata": {},
     "output_type": "execute_result"
    }
   ],
   "source": [
    "adder(4)"
   ]
  },
  {
   "cell_type": "code",
   "execution_count": 33,
   "id": "c25c256e",
   "metadata": {},
   "outputs": [],
   "source": [
    "from sklearn.cluster import KMeans"
   ]
  },
  {
   "cell_type": "code",
   "execution_count": 34,
   "id": "81792aa9",
   "metadata": {},
   "outputs": [
    {
     "data": {
      "text/html": [
       "<style>#sk-container-id-1 {color: black;}#sk-container-id-1 pre{padding: 0;}#sk-container-id-1 div.sk-toggleable {background-color: white;}#sk-container-id-1 label.sk-toggleable__label {cursor: pointer;display: block;width: 100%;margin-bottom: 0;padding: 0.3em;box-sizing: border-box;text-align: center;}#sk-container-id-1 label.sk-toggleable__label-arrow:before {content: \"▸\";float: left;margin-right: 0.25em;color: #696969;}#sk-container-id-1 label.sk-toggleable__label-arrow:hover:before {color: black;}#sk-container-id-1 div.sk-estimator:hover label.sk-toggleable__label-arrow:before {color: black;}#sk-container-id-1 div.sk-toggleable__content {max-height: 0;max-width: 0;overflow: hidden;text-align: left;background-color: #f0f8ff;}#sk-container-id-1 div.sk-toggleable__content pre {margin: 0.2em;color: black;border-radius: 0.25em;background-color: #f0f8ff;}#sk-container-id-1 input.sk-toggleable__control:checked~div.sk-toggleable__content {max-height: 200px;max-width: 100%;overflow: auto;}#sk-container-id-1 input.sk-toggleable__control:checked~label.sk-toggleable__label-arrow:before {content: \"▾\";}#sk-container-id-1 div.sk-estimator input.sk-toggleable__control:checked~label.sk-toggleable__label {background-color: #d4ebff;}#sk-container-id-1 div.sk-label input.sk-toggleable__control:checked~label.sk-toggleable__label {background-color: #d4ebff;}#sk-container-id-1 input.sk-hidden--visually {border: 0;clip: rect(1px 1px 1px 1px);clip: rect(1px, 1px, 1px, 1px);height: 1px;margin: -1px;overflow: hidden;padding: 0;position: absolute;width: 1px;}#sk-container-id-1 div.sk-estimator {font-family: monospace;background-color: #f0f8ff;border: 1px dotted black;border-radius: 0.25em;box-sizing: border-box;margin-bottom: 0.5em;}#sk-container-id-1 div.sk-estimator:hover {background-color: #d4ebff;}#sk-container-id-1 div.sk-parallel-item::after {content: \"\";width: 100%;border-bottom: 1px solid gray;flex-grow: 1;}#sk-container-id-1 div.sk-label:hover label.sk-toggleable__label {background-color: #d4ebff;}#sk-container-id-1 div.sk-serial::before {content: \"\";position: absolute;border-left: 1px solid gray;box-sizing: border-box;top: 0;bottom: 0;left: 50%;z-index: 0;}#sk-container-id-1 div.sk-serial {display: flex;flex-direction: column;align-items: center;background-color: white;padding-right: 0.2em;padding-left: 0.2em;position: relative;}#sk-container-id-1 div.sk-item {position: relative;z-index: 1;}#sk-container-id-1 div.sk-parallel {display: flex;align-items: stretch;justify-content: center;background-color: white;position: relative;}#sk-container-id-1 div.sk-item::before, #sk-container-id-1 div.sk-parallel-item::before {content: \"\";position: absolute;border-left: 1px solid gray;box-sizing: border-box;top: 0;bottom: 0;left: 50%;z-index: -1;}#sk-container-id-1 div.sk-parallel-item {display: flex;flex-direction: column;z-index: 1;position: relative;background-color: white;}#sk-container-id-1 div.sk-parallel-item:first-child::after {align-self: flex-end;width: 50%;}#sk-container-id-1 div.sk-parallel-item:last-child::after {align-self: flex-start;width: 50%;}#sk-container-id-1 div.sk-parallel-item:only-child::after {width: 0;}#sk-container-id-1 div.sk-dashed-wrapped {border: 1px dashed gray;margin: 0 0.4em 0.5em 0.4em;box-sizing: border-box;padding-bottom: 0.4em;background-color: white;}#sk-container-id-1 div.sk-label label {font-family: monospace;font-weight: bold;display: inline-block;line-height: 1.2em;}#sk-container-id-1 div.sk-label-container {text-align: center;}#sk-container-id-1 div.sk-container {/* jupyter's `normalize.less` sets `[hidden] { display: none; }` but bootstrap.min.css set `[hidden] { display: none !important; }` so we also need the `!important` here to be able to override the default hidden behavior on the sphinx rendered scikit-learn.org. See: https://github.com/scikit-learn/scikit-learn/issues/21755 */display: inline-block !important;position: relative;}#sk-container-id-1 div.sk-text-repr-fallback {display: none;}</style><div id=\"sk-container-id-1\" class=\"sk-top-container\"><div class=\"sk-text-repr-fallback\"><pre>KMeans()</pre><b>In a Jupyter environment, please rerun this cell to show the HTML representation or trust the notebook. <br />On GitHub, the HTML representation is unable to render, please try loading this page with nbviewer.org.</b></div><div class=\"sk-container\" hidden><div class=\"sk-item\"><div class=\"sk-estimator sk-toggleable\"><input class=\"sk-toggleable__control sk-hidden--visually\" id=\"sk-estimator-id-1\" type=\"checkbox\" checked><label for=\"sk-estimator-id-1\" class=\"sk-toggleable__label sk-toggleable__label-arrow\">KMeans</label><div class=\"sk-toggleable__content\"><pre>KMeans()</pre></div></div></div></div></div>"
      ],
      "text/plain": [
       "KMeans()"
      ]
     },
     "execution_count": 34,
     "metadata": {},
     "output_type": "execute_result"
    }
   ],
   "source": [
    "KMeans()"
   ]
  },
  {
   "cell_type": "code",
   "execution_count": 35,
   "id": "98cd1023",
   "metadata": {},
   "outputs": [
    {
     "ename": "TypeError",
     "evalue": "adder() missing 1 required positional argument: 'num1'",
     "output_type": "error",
     "traceback": [
      "\u001b[1;31m---------------------------------------------------------------------------\u001b[0m",
      "\u001b[1;31mTypeError\u001b[0m                                 Traceback (most recent call last)",
      "Cell \u001b[1;32mIn[35], line 1\u001b[0m\n\u001b[1;32m----> 1\u001b[0m adder()\n",
      "\u001b[1;31mTypeError\u001b[0m: adder() missing 1 required positional argument: 'num1'"
     ]
    }
   ],
   "source": [
    "#adder()"
   ]
  },
  {
   "cell_type": "code",
   "execution_count": 37,
   "id": "7f51feda",
   "metadata": {},
   "outputs": [],
   "source": [
    "#adder()"
   ]
  },
  {
   "cell_type": "code",
   "execution_count": 46,
   "id": "d400e323",
   "metadata": {},
   "outputs": [],
   "source": [
    "# keyword arguments\n",
    "def multiplier(num1=10, num2=4, num3=8):\n",
    "    return num1*num2*num3"
   ]
  },
  {
   "cell_type": "code",
   "execution_count": 40,
   "id": "f6e51910",
   "metadata": {},
   "outputs": [
    {
     "data": {
      "text/plain": [
       "320"
      ]
     },
     "execution_count": 40,
     "metadata": {},
     "output_type": "execute_result"
    }
   ],
   "source": [
    "multiplier()"
   ]
  },
  {
   "cell_type": "code",
   "execution_count": 41,
   "id": "6b0aee1d",
   "metadata": {},
   "outputs": [
    {
     "data": {
      "text/plain": [
       "32"
      ]
     },
     "execution_count": 41,
     "metadata": {},
     "output_type": "execute_result"
    }
   ],
   "source": [
    "multiplier(1)"
   ]
  },
  {
   "cell_type": "code",
   "execution_count": 47,
   "id": "5e7324f5",
   "metadata": {},
   "outputs": [],
   "source": [
    "# keyword arguments\n",
    "def multiplier2(num1=10, num2=4, num3=8):\n",
    "    return num1*(num2**num3)"
   ]
  },
  {
   "cell_type": "code",
   "execution_count": 48,
   "id": "d6fc81ab",
   "metadata": {},
   "outputs": [
    {
     "data": {
      "text/plain": [
       "65536"
      ]
     },
     "execution_count": 48,
     "metadata": {},
     "output_type": "execute_result"
    }
   ],
   "source": [
    "multiplier2(1)"
   ]
  },
  {
   "cell_type": "code",
   "execution_count": 50,
   "id": "792c0b73",
   "metadata": {},
   "outputs": [
    {
     "data": {
      "text/plain": [
       "5"
      ]
     },
     "execution_count": 50,
     "metadata": {},
     "output_type": "execute_result"
    }
   ],
   "source": [
    "multiplier2(num2=1, num1=5)"
   ]
  },
  {
   "cell_type": "code",
   "execution_count": 51,
   "id": "efd18b38",
   "metadata": {},
   "outputs": [
    {
     "data": {
      "text/plain": [
       "5"
      ]
     },
     "execution_count": 51,
     "metadata": {},
     "output_type": "execute_result"
    }
   ],
   "source": [
    "multiplier2(5, num3=0)"
   ]
  },
  {
   "cell_type": "code",
   "execution_count": 52,
   "id": "9b5447f4",
   "metadata": {},
   "outputs": [
    {
     "ename": "SyntaxError",
     "evalue": "positional argument follows keyword argument (2062068778.py, line 1)",
     "output_type": "error",
     "traceback": [
      "\u001b[1;36m  Cell \u001b[1;32mIn[52], line 1\u001b[1;36m\u001b[0m\n\u001b[1;33m    multiplier2(num2=4, 5, num3=0)\u001b[0m\n\u001b[1;37m                                 ^\u001b[0m\n\u001b[1;31mSyntaxError\u001b[0m\u001b[1;31m:\u001b[0m positional argument follows keyword argument\n"
     ]
    }
   ],
   "source": [
    "#multiplier2(num2=4, 5, num3=0)"
   ]
  },
  {
   "cell_type": "code",
   "execution_count": 53,
   "id": "682c18d2",
   "metadata": {},
   "outputs": [],
   "source": [
    "# Unlimited arguments\n",
    "def multiAdder(num1, num2=4, num3=8, *args):\n",
    "    print(num1, num2, num3, args)"
   ]
  },
  {
   "cell_type": "code",
   "execution_count": 54,
   "id": "192ae507",
   "metadata": {},
   "outputs": [
    {
     "name": "stdout",
     "output_type": "stream",
     "text": [
      "1 4 8 ()\n"
     ]
    }
   ],
   "source": [
    "multiAdder(1)"
   ]
  },
  {
   "cell_type": "code",
   "execution_count": 55,
   "id": "80f1a1ed",
   "metadata": {},
   "outputs": [
    {
     "name": "stdout",
     "output_type": "stream",
     "text": [
      "1 2 8 ()\n"
     ]
    }
   ],
   "source": [
    "multiAdder(1, 2)"
   ]
  },
  {
   "cell_type": "code",
   "execution_count": 56,
   "id": "21a80ca5",
   "metadata": {},
   "outputs": [
    {
     "name": "stdout",
     "output_type": "stream",
     "text": [
      "1 2 0 ()\n"
     ]
    }
   ],
   "source": [
    "multiAdder(1, 2, 0)"
   ]
  },
  {
   "cell_type": "code",
   "execution_count": 57,
   "id": "60fa3a1a",
   "metadata": {},
   "outputs": [
    {
     "name": "stdout",
     "output_type": "stream",
     "text": [
      "1 2 0 (6, 2, 7, 2, 7, 2, 8)\n"
     ]
    }
   ],
   "source": [
    "multiAdder(1, 2, 0, 6, 2, 7, 2, 7, 2, 8)"
   ]
  },
  {
   "cell_type": "code",
   "execution_count": 58,
   "id": "e2bac23e",
   "metadata": {},
   "outputs": [],
   "source": [
    "def calcMean(*args):\n",
    "    print(args)"
   ]
  },
  {
   "cell_type": "code",
   "execution_count": 59,
   "id": "262d7fbd",
   "metadata": {},
   "outputs": [
    {
     "name": "stdout",
     "output_type": "stream",
     "text": [
      "(1, 1, 2, 3, 5, 8, 13)\n"
     ]
    }
   ],
   "source": [
    "calcMean(1, 1, 2, 3, 5, 8, 13)"
   ]
  },
  {
   "cell_type": "code",
   "execution_count": 60,
   "id": "82869fdd",
   "metadata": {},
   "outputs": [],
   "source": [
    "def repeater(func):\n",
    "    func()\n",
    "    func()\n",
    "    func()\n",
    "    func()\n",
    "    func()\n",
    "    "
   ]
  },
  {
   "cell_type": "code",
   "execution_count": 61,
   "id": "c1780648",
   "metadata": {
    "collapsed": true
   },
   "outputs": [
    {
     "name": "stdout",
     "output_type": "stream",
     "text": [
      "Hello\n",
      "Hi\n",
      "Greetings\n",
      "Good afternoon\n",
      "Dia dhaiobh\n",
      "Hello\n",
      "Hi\n",
      "Greetings\n",
      "Good afternoon\n",
      "Dia dhaiobh\n",
      "Hello\n",
      "Hi\n",
      "Greetings\n",
      "Good afternoon\n",
      "Dia dhaiobh\n",
      "Hello\n",
      "Hi\n",
      "Greetings\n",
      "Good afternoon\n",
      "Dia dhaiobh\n",
      "Hello\n",
      "Hi\n",
      "Greetings\n",
      "Good afternoon\n",
      "Dia dhaiobh\n"
     ]
    }
   ],
   "source": [
    "repeater(printFiveGreetings)"
   ]
  },
  {
   "cell_type": "code",
   "execution_count": 62,
   "id": "b1fc8972",
   "metadata": {},
   "outputs": [],
   "source": [
    "def repeatPrint(x):\n",
    "    x(\"Hello\")\n",
    "    x(\"Python is great\")\n",
    "    x(\"But I love the weekend\")"
   ]
  },
  {
   "cell_type": "code",
   "execution_count": 63,
   "id": "7bc75cba",
   "metadata": {},
   "outputs": [
    {
     "name": "stdout",
     "output_type": "stream",
     "text": [
      "Hello\n",
      "Python is great\n",
      "But I love the weekend\n"
     ]
    }
   ],
   "source": [
    "repeatPrint(print)"
   ]
  },
  {
   "cell_type": "markdown",
   "id": "30e4aa78",
   "metadata": {},
   "source": [
    "# Programming Paradigm\n",
    "- Imperative\n",
    "- Procedural\n",
    "- Object Oriented\n",
    "- Declarative\n",
    "- Functional"
   ]
  },
  {
   "cell_type": "code",
   "execution_count": null,
   "id": "5d8f0660",
   "metadata": {},
   "outputs": [],
   "source": []
  }
 ],
 "metadata": {
  "kernelspec": {
   "display_name": "Python 3 (ipykernel)",
   "language": "python",
   "name": "python3"
  },
  "language_info": {
   "codemirror_mode": {
    "name": "ipython",
    "version": 3
   },
   "file_extension": ".py",
   "mimetype": "text/x-python",
   "name": "python",
   "nbconvert_exporter": "python",
   "pygments_lexer": "ipython3",
   "version": "3.11.5"
  }
 },
 "nbformat": 4,
 "nbformat_minor": 5
}
