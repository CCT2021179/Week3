{
 "cells": [
  {
   "cell_type": "markdown",
   "id": "bc63f60d",
   "metadata": {},
   "source": [
    " ## Exercise 1: \n",
    " Rewrite your pay computation to give the employee 1.5\n",
    " times the hourly rate for hours worked above 40 hours."
   ]
  },
  {
   "cell_type": "code",
   "execution_count": 1,
   "id": "252b31dc",
   "metadata": {},
   "outputs": [
    {
     "name": "stdout",
     "output_type": "stream",
     "text": [
      "What are your hours?\n",
      "45\n",
      "What is your rate?\n",
      "10\n",
      "Your pay is : €475.0\n"
     ]
    }
   ],
   "source": [
    "hours = float(input(\"What are your hours?\\n\"))\n",
    "rate = float(input(\"What is your rate?\\n\"))\n",
    "\n",
    "if hours > 40:\n",
    "    pay = (hours-40)*1.5*rate + 40*rate\n",
    "else:\n",
    "    pay = hours*rate\n",
    "\n",
    "print(f\"Your pay is : €{pay}\")"
   ]
  },
  {
   "cell_type": "markdown",
   "id": "dbe627e7",
   "metadata": {},
   "source": [
    "## Exercise 2: \n",
    "Rewrite your pay program using **try and except** so that your\n",
    " program handles non-numeric input gracefully by printing a message\n",
    " and exiting the program. The following shows two executions of the\n",
    " program:"
   ]
  },
  {
   "cell_type": "code",
   "execution_count": 16,
   "id": "648c5598",
   "metadata": {},
   "outputs": [
    {
     "name": "stdout",
     "output_type": "stream",
     "text": [
      "What are your hours?\n",
      "5\n",
      "What is your rate?\n",
      "python\n",
      "Warning - the inputs must be numbers!\n"
     ]
    }
   ],
   "source": [
    "try:\n",
    "    hours = float(input(\"What are your hours?\\n\"))\n",
    "    rate = float(input(\"What is your rate?\\n\"))\n",
    "    \n",
    "    if hours > 40:\n",
    "        pay = (hours-40)*1.5*rate + 40*rate\n",
    "    else:\n",
    "        pay = hours*rate\n",
    "\n",
    "    print(f\"Your pay is : €{pay}\")\n",
    "    \n",
    "except:\n",
    "    print(\"Warning - the inputs must be numbers!\")\n",
    "\n"
   ]
  },
  {
   "cell_type": "code",
   "execution_count": 20,
   "id": "2d105334",
   "metadata": {},
   "outputs": [
    {
     "name": "stdout",
     "output_type": "stream",
     "text": [
      "What are your hours?\n",
      "5\n",
      "What is your rate?\n",
      "d\n",
      "Warning - the inputs must be numbers!\n"
     ]
    }
   ],
   "source": [
    "try:\n",
    "    hours = float(input(\"What are your hours?\\n\"))\n",
    "    rate = float(input(\"What is your rate?\\n\"))\n",
    "    validInput = True\n",
    "except:\n",
    "    print(\"Warning - the inputs must be numbers!\")\n",
    "    validInput = False\n",
    "\n",
    "if validInput:\n",
    "    if hours > 40:\n",
    "        pay = (hours-40)*1.5*rate + 40*rate\n",
    "    else:\n",
    "        pay = hours*rate\n",
    "    print(f\"Your pay is : €{pay}\")    "
   ]
  },
  {
   "cell_type": "markdown",
   "id": "9b6901e2",
   "metadata": {},
   "source": [
    " ## Exercise 3: \n",
    " Write a program to prompt for a score between 0.0 and\n",
    " 1.0. If the score is out of range, print an error message. If the score is\n",
    " between 0.0 and 1.0, print a grade using the following table:\n",
    " \n",
    " \\>= 0.9 -> A\n",
    " \n",
    " \\>= 0.8 -> B\n",
    " \n",
    " \\>= 0.7 -> C\n",
    " \n",
    " \\>= 0.6 -> D\n",
    " \n",
    " < 0.6 -> F"
   ]
  },
  {
   "cell_type": "code",
   "execution_count": 14,
   "id": "b8a13e2a",
   "metadata": {},
   "outputs": [
    {
     "name": "stdout",
     "output_type": "stream",
     "text": [
      "What is your score?\n",
      "0\n",
      "F\n"
     ]
    }
   ],
   "source": [
    "score = float(input(\"What is your score?\\n\"))\n",
    "\n",
    "if score > 1:\n",
    "    print(\"Score is too big - it must be between 0 and 1 inclusive\")\n",
    "elif score < 0:\n",
    "    print(\"Score is too small - it must be between 0 and 1 inclusive\")\n",
    "elif score >= 0.9:\n",
    "    print(\"A\")\n",
    "elif score >= 0.8:\n",
    "    print(\"B\")\n",
    "elif score >= 0.7:\n",
    "    print(\"C\")\n",
    "elif score >= 0.6:\n",
    "    print(\"D\")\n",
    "else:\n",
    "    print(\"F\")"
   ]
  },
  {
   "cell_type": "code",
   "execution_count": null,
   "id": "7bc9cc62",
   "metadata": {},
   "outputs": [],
   "source": []
  }
 ],
 "metadata": {
  "kernelspec": {
   "display_name": "Python 3 (ipykernel)",
   "language": "python",
   "name": "python3"
  },
  "language_info": {
   "codemirror_mode": {
    "name": "ipython",
    "version": 3
   },
   "file_extension": ".py",
   "mimetype": "text/x-python",
   "name": "python",
   "nbconvert_exporter": "python",
   "pygments_lexer": "ipython3",
   "version": "3.11.5"
  }
 },
 "nbformat": 4,
 "nbformat_minor": 5
}
